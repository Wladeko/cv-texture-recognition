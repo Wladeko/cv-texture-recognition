{
 "cells": [
  {
   "cell_type": "code",
   "execution_count": 35,
   "metadata": {},
   "outputs": [],
   "source": [
    "import numpy as np\n",
    "import os\n",
    "import cv2\n",
    "import matplotlib.pyplot as plt\n",
    "\n",
    "from tqdm import tqdm\n",
    "from sklearn.ensemble import RandomForestClassifier\n",
    "from scipy.stats import skew, kurtosis\n",
    "from skimage.feature import graycomatrix, graycoprops,local_binary_pattern\n",
    "from sklearn.metrics import accuracy_score\n",
    "# from skimage.feature import daisy, hog, sift, surf\n",
    "\n",
    "\n",
    "class_dict = {\n",
    "    \"aluminium_foil\": (1, 216),\n",
    "    \"brown_bread\": (2, 41),\n",
    "    \"corduroy\": (3, 256),\n",
    "    \"cork\": (4, 216),\n",
    "    \"cotton\": (5, 257),\n",
    "    \"cracker\": (6, 34),\n",
    "    \"linen\": (7, 257),\n",
    "    \"orange_peel\": (8, 25),\n",
    "    \"sponge\": (9, 41),\n",
    "    \"styrofoam\": (10, 41),\n",
    "    \"wool\": (11, 216)\n",
    "}\n",
    "\n",
    "valid_class_split = [0, 216, 257, 513, 729, 986, 1020, 1277, 1302, 1343, 1384, 1600]"
   ]
  },
  {
   "cell_type": "code",
   "execution_count": 13,
   "metadata": {},
   "outputs": [],
   "source": [
    "def load_images(mode):\n",
    "    images = []\n",
    "    labels = []\n",
    "    training_path = \".\\\\data\\\\train\" if mode == \"train\" else \".\\\\data\\\\valid\"\n",
    "\n",
    "    for label in tqdm(os.listdir(training_path), desc=f'Load {mode} data'):\n",
    "        label_training_path = training_path + f\"\\\\{label}\"\n",
    "        for image in os.listdir(label_training_path):\n",
    "            image_label_training_path = label_training_path + f\"\\\\{image}\"\n",
    "            img = cv2.imread(image_label_training_path)\n",
    "            img_gray = cv2.cvtColor(img, cv2.COLOR_BGR2GRAY)\n",
    "            images.append((img, img_gray))\n",
    "            labels.append(class_dict[label][0])\n",
    "    return images, labels\n",
    "\n",
    "def assessment(y_valid, y_pred):\n",
    "    acc = accuracy_score(y_valid, y_pred)\n",
    "    print(\"Accuracy global: {:.2f}%\".format(acc * 100))\n",
    "    splitted = []\n",
    "    for i in range(1, len(valid_class_split)):\n",
    "        y_v = y_valid[valid_class_split[i-1]:valid_class_split[i]]\n",
    "        y_p = y_pred[valid_class_split[i-1]:valid_class_split[i]]\n",
    "        splitted.append((y_p, y_v))\n",
    "        acc = accuracy_score(y_v, y_p)\n",
    "        print(f\"Accuracy {i}: {round(acc * 100,2)}%\")\n",
    "    return splitted"
   ]
  },
  {
   "attachments": {},
   "cell_type": "markdown",
   "metadata": {},
   "source": [
    "### Simple"
   ]
  },
  {
   "cell_type": "code",
   "execution_count": 25,
   "metadata": {},
   "outputs": [
    {
     "name": "stderr",
     "output_type": "stream",
     "text": [
      "Load train data: 100%|██████████| 11/11 [00:06<00:00,  1.81it/s]\n",
      "Extract train features: 100%|██████████| 1595/1595 [00:12<00:00, 130.21it/s]\n",
      "Load valid data: 100%|██████████| 11/11 [00:06<00:00,  1.79it/s]\n",
      "Extract valid features: 100%|██████████| 1600/1600 [00:15<00:00, 100.50it/s]\n"
     ]
    },
    {
     "name": "stdout",
     "output_type": "stream",
     "text": [
      "Accuracy global: 79.81%\n",
      "Accuracy 1: 72.22%\n",
      "Accuracy 2: 65.85%\n",
      "Accuracy 3: 73.05%\n",
      "Accuracy 4: 90.74%\n",
      "Accuracy 5: 84.82%\n",
      "Accuracy 6: 38.24%\n",
      "Accuracy 7: 84.05%\n",
      "Accuracy 8: 92.0%\n",
      "Accuracy 9: 75.61%\n",
      "Accuracy 10: 90.24%\n",
      "Accuracy 11: 80.09%\n"
     ]
    }
   ],
   "source": [
    "def extract_features_1(mode):\n",
    "    images, labels = load_images(mode)\n",
    "\n",
    "    features = []\n",
    "    for image_tuple in tqdm(images, desc=f\"Extract {mode} features\"):\n",
    "        image = image_tuple[1]\n",
    "        # Statistical features\n",
    "        mean = np.mean(image)\n",
    "        std = np.std(image)\n",
    "        skewness = skew(image.flatten())\n",
    "        kurtosis_ = kurtosis(image.flatten())\n",
    "\n",
    "        features_ = [\n",
    "            mean,\n",
    "            std,\n",
    "            skewness,\n",
    "            kurtosis_,\n",
    "        ]\n",
    "        features.append(features_)\n",
    "    features = np.array(features)\n",
    "    labels = np.array(labels)\n",
    "\n",
    "    return features, labels\n",
    "\n",
    "\n",
    "X_train_1, y_train_1 = extract_features_1(\"train\")\n",
    "X_valid_1, y_valid_1 = extract_features_1(\"valid\")\n",
    "\n",
    "# Initialize the classifier\n",
    "clf = RandomForestClassifier(random_state=42)\n",
    "\n",
    "# Train the classifier on the training data\n",
    "clf.fit(X_train_1, y_train_1)\n",
    "\n",
    "# Predict the labels for the validation data\n",
    "y_pred_1 = clf.predict(X_valid_1)\n",
    "\n",
    "data_1 = assessment(y_valid_1, y_pred_1)"
   ]
  },
  {
   "cell_type": "code",
   "execution_count": 26,
   "metadata": {},
   "outputs": [
    {
     "data": {
      "image/png": "[encoded data removed]",
      "text/plain": [
       "<Figure size 640x480 with 1 Axes>"
      ]
     },
     "metadata": {},
     "output_type": "display_data"
    }
   ],
   "source": [
    "_ = plt.hist(data_1[5][0], bins=11, range=(1,12))\n",
    "plt.show()"
   ]
  },
  {
   "cell_type": "code",
   "execution_count": 29,
   "metadata": {},
   "outputs": [
    {
     "name": "stderr",
     "output_type": "stream",
     "text": [
      "Load train data: 100%|██████████| 11/11 [00:04<00:00,  2.27it/s]\n",
      "Extract train features: 100%|██████████| 1595/1595 [00:08<00:00, 184.66it/s]\n",
      "Load valid data: 100%|██████████| 11/11 [00:04<00:00,  2.50it/s]\n",
      "Extract valid features: 100%|██████████| 1600/1600 [00:07<00:00, 210.37it/s]\n"
     ]
    },
    {
     "name": "stdout",
     "output_type": "stream",
     "text": [
      "Accuracy global: 67.62%\n",
      "Accuracy 1: 87.96%\n",
      "Accuracy 2: 56.1%\n",
      "Accuracy 3: 44.53%\n",
      "Accuracy 4: 85.65%\n",
      "Accuracy 5: 66.54%\n",
      "Accuracy 6: 14.71%\n",
      "Accuracy 7: 82.1%\n",
      "Accuracy 8: 68.0%\n",
      "Accuracy 9: 43.9%\n",
      "Accuracy 10: 51.22%\n",
      "Accuracy 11: 58.8%\n"
     ]
    }
   ],
   "source": [
    "def extract_features_2(mode):\n",
    "    images, labels = load_images(mode)\n",
    "\n",
    "    features = []\n",
    "    for image_tuple in tqdm(images, desc=f\"Extract {mode} features\"):\n",
    "        image = image_tuple[1]\n",
    "        # GLCM features\n",
    "        glcm = graycomatrix(\n",
    "            image,\n",
    "            [5],\n",
    "            [0],\n",
    "            256,\n",
    "            symmetric=True,\n",
    "            normed=True,\n",
    "        )\n",
    "        contrast = graycoprops(glcm, \"contrast\").flatten()\n",
    "        correlation = graycoprops(glcm, \"correlation\").flatten()\n",
    "        energy = graycoprops(glcm, \"energy\").flatten()\n",
    "        homogeneity = graycoprops(glcm, \"homogeneity\").flatten()\n",
    "        dissimilarity = graycoprops(glcm, \"dissimilarity\").flatten()\n",
    "        asm = graycoprops(glcm, \"ASM\").flatten()\n",
    "\n",
    "        features_ = []\n",
    "        features_.extend(contrast)\n",
    "        features_.extend(correlation)\n",
    "        features_.extend(energy)\n",
    "        features_.extend(homogeneity)\n",
    "        features_.extend(dissimilarity)\n",
    "        features_.extend(asm)\n",
    "        features.append(features_)\n",
    "    features = np.array(features)\n",
    "    labels = np.array(labels)\n",
    "\n",
    "    return features, labels\n",
    "\n",
    "\n",
    "X_train_2, y_train_2 = extract_features_2(\"train\")\n",
    "X_valid_2, y_valid_2 = extract_features_2(\"valid\")\n",
    "\n",
    "# Initialize the classifier\n",
    "clf = RandomForestClassifier(random_state=42)\n",
    "\n",
    "# Train the classifier on the training data\n",
    "clf.fit(X_train_2, y_train_2)\n",
    "\n",
    "# Predict the labels for the validation data\n",
    "y_pred_2 = clf.predict(X_valid_2)\n",
    "\n",
    "data_2 = assessment(y_valid_2, y_pred_2)"
   ]
  },
  {
   "cell_type": "code",
   "execution_count": 30,
   "metadata": {},
   "outputs": [
    {
     "data": {
      "image/png": "[encoded data removed]",
      "text/plain": [
       "<Figure size 640x480 with 1 Axes>"
      ]
     },
     "metadata": {},
     "output_type": "display_data"
    }
   ],
   "source": [
    "_ = plt.hist(data_2[5][0], bins=11, range=(1,12))\n",
    "plt.show()"
   ]
  },
  {
   "cell_type": "code",
   "execution_count": 31,
   "metadata": {},
   "outputs": [
    {
     "name": "stderr",
     "output_type": "stream",
     "text": [
      "Load train data: 100%|██████████| 11/11 [00:06<00:00,  1.72it/s]\n",
      "Extract train features: 100%|██████████| 1595/1595 [07:27<00:00,  3.56it/s]\n",
      "Load valid data: 100%|██████████| 11/11 [00:06<00:00,  1.72it/s]\n",
      "Extract valid features: 100%|██████████| 1600/1600 [07:10<00:00,  3.71it/s]\n"
     ]
    },
    {
     "name": "stdout",
     "output_type": "stream",
     "text": [
      "Accuracy global: 88.00%\n",
      "Accuracy 1: 95.83%\n",
      "Accuracy 2: 78.05%\n",
      "Accuracy 3: 88.28%\n",
      "Accuracy 4: 89.81%\n",
      "Accuracy 5: 86.38%\n",
      "Accuracy 6: 67.65%\n",
      "Accuracy 7: 86.38%\n",
      "Accuracy 8: 96.0%\n",
      "Accuracy 9: 65.85%\n",
      "Accuracy 10: 75.61%\n",
      "Accuracy 11: 92.59%\n"
     ]
    }
   ],
   "source": [
    "def extract_features_3(mode):\n",
    "    images, labels = load_images(mode)\n",
    "\n",
    "    features = []\n",
    "    for image_tuple in tqdm(images, desc=f\"Extract {mode} features\"):\n",
    "        image = image_tuple[1]\n",
    "        # GLCM features\n",
    "        glcm = graycomatrix(\n",
    "            image,\n",
    "            [1, 2, 3, 4, 5, 6, 7, 8, 9, 10],\n",
    "            [0, np.pi/4, np.pi/2],\n",
    "            256,\n",
    "            symmetric=True,\n",
    "            normed=True,\n",
    "        )\n",
    "        contrast = graycoprops(glcm, \"contrast\").flatten()\n",
    "        correlation = graycoprops(glcm, \"correlation\").flatten()\n",
    "        energy = graycoprops(glcm, \"energy\").flatten()\n",
    "        homogeneity = graycoprops(glcm, \"homogeneity\").flatten()\n",
    "        dissimilarity = graycoprops(glcm, \"dissimilarity\").flatten()\n",
    "        asm = graycoprops(glcm, \"ASM\").flatten()\n",
    "\n",
    "        features_ = []\n",
    "        features_.extend(contrast)\n",
    "        features_.extend(correlation)\n",
    "        features_.extend(energy)\n",
    "        features_.extend(homogeneity)\n",
    "        features_.extend(dissimilarity)\n",
    "        features_.extend(asm)\n",
    "        features.append(features_)\n",
    "    features = np.array(features)\n",
    "    labels = np.array(labels)\n",
    "\n",
    "    return features, labels\n",
    "\n",
    "\n",
    "X_train_3, y_train_3 = extract_features_3(\"train\")\n",
    "X_valid_3, y_valid_3 = extract_features_3(\"valid\")\n",
    "\n",
    "# Initialize the classifier\n",
    "clf = RandomForestClassifier(random_state=42)\n",
    "\n",
    "# Train the classifier on the training data\n",
    "clf.fit(X_train_3, y_train_3)\n",
    "\n",
    "# Predict the labels for the validation data\n",
    "y_pred_3 = clf.predict(X_valid_3)\n",
    "\n",
    "data_3 = assessment(y_valid_3, y_pred_3)"
   ]
  },
  {
   "cell_type": "code",
   "execution_count": 32,
   "metadata": {},
   "outputs": [
    {
     "data": {
      "image/png": "[encoded data removed]",
      "text/plain": [
       "<Figure size 640x480 with 1 Axes>"
      ]
     },
     "metadata": {},
     "output_type": "display_data"
    }
   ],
   "source": [
    "_ = plt.hist(data_3[8][0], bins=11, range=(1,12))\n",
    "plt.show()"
   ]
  },
  {
   "cell_type": "code",
   "execution_count": 36,
   "metadata": {},
   "outputs": [
    {
     "name": "stderr",
     "output_type": "stream",
     "text": [
      "Load train data: 100%|██████████| 11/11 [00:05<00:00,  2.09it/s]\n",
      "Extract train features: 100%|██████████| 1595/1595 [03:42<00:00,  7.18it/s]\n",
      "Load valid data: 100%|██████████| 11/11 [00:04<00:00,  2.46it/s]\n",
      "Extract valid features: 100%|██████████| 1600/1600 [03:43<00:00,  7.15it/s]\n"
     ]
    },
    {
     "name": "stdout",
     "output_type": "stream",
     "text": [
      "Accuracy global: 66.69%\n",
      "Accuracy 1: 87.04%\n",
      "Accuracy 2: 19.51%\n",
      "Accuracy 3: 66.02%\n",
      "Accuracy 4: 77.31%\n",
      "Accuracy 5: 69.65%\n",
      "Accuracy 6: 35.29%\n",
      "Accuracy 7: 70.43%\n",
      "Accuracy 8: 4.0%\n",
      "Accuracy 9: 29.27%\n",
      "Accuracy 10: 78.05%\n",
      "Accuracy 11: 54.63%\n"
     ]
    }
   ],
   "source": [
    "def extract_features_4(mode):\n",
    "    images, labels = load_images(mode)\n",
    "\n",
    "    features = []\n",
    "    for image_tuple in tqdm(images, desc=f\"Extract {mode} features\"):\n",
    "        image = image_tuple[1]\n",
    "        # LBP features\n",
    "        radius = 5\n",
    "        n_points = 8 * radius\n",
    "        lbp = local_binary_pattern(image, n_points, radius)\n",
    "        lbp = lbp.ravel()\n",
    "        lbp_hist = np.histogram(\n",
    "            lbp, density=True, bins=n_points + 2, range=(0, n_points + 2)\n",
    "        )[0]\n",
    "\n",
    "        features_ = []\n",
    "        features_.extend(lbp_hist)\n",
    "        features.append(features_)\n",
    "    features = np.array(features)\n",
    "    labels = np.array(labels)\n",
    "\n",
    "    return features, labels\n",
    "\n",
    "\n",
    "X_train_4, y_train_4 = extract_features_4(\"train\")\n",
    "X_valid_4, y_valid_4 = extract_features_4(\"valid\")\n",
    "\n",
    "# Initialize the classifier\n",
    "clf = RandomForestClassifier(random_state=42)\n",
    "\n",
    "# Train the classifier on the training data\n",
    "clf.fit(X_train_4, y_train_4)\n",
    "\n",
    "# Predict the labels for the validation data\n",
    "y_pred_4 = clf.predict(X_valid_4)\n",
    "\n",
    "data_4 = assessment(y_valid_4, y_pred_4)"
   ]
  },
  {
   "cell_type": "code",
   "execution_count": 37,
   "metadata": {},
   "outputs": [
    {
     "data": {
      "image/png": "[encoded data removed]",
      "text/plain": [
       "<Figure size 640x480 with 1 Axes>"
      ]
     },
     "metadata": {},
     "output_type": "display_data"
    }
   ],
   "source": [
    "_ = plt.hist(data_4[7][0], bins=11, range=(1,12))\n",
    "plt.show()"
   ]
  },
  {
   "cell_type": "code",
   "execution_count": 38,
   "metadata": {},
   "outputs": [],
   "source": [
    "y_train = y_train_1\n",
    "y_valid = y_valid_1\n",
    "\n",
    "X_train_stat = X_train_1\n",
    "X_valid_stat = X_valid_1\n",
    "\n",
    "X_train_glcm = X_train_3\n",
    "X_valid_glcm = X_valid_3\n",
    "\n",
    "X_train_lbp = X_train_4\n",
    "X_valid_lbp = X_valid_4"
   ]
  },
  {
   "cell_type": "code",
   "execution_count": 40,
   "metadata": {},
   "outputs": [],
   "source": [
    "X_train_stat_glcm = np.concatenate((X_train_stat, X_train_glcm), axis=1)\n",
    "X_valid_stat_glcm = np.concatenate((X_valid_stat, X_valid_glcm), axis=1)\n",
    "\n",
    "X_train_stat_lbp = np.concatenate((X_train_stat, X_train_lbp), axis=1)\n",
    "X_valid_stat_lbp = np.concatenate((X_valid_stat, X_valid_lbp), axis=1)\n",
    "\n",
    "X_train_lbp_glcm = np.concatenate((X_train_lbp, X_train_glcm), axis=1)\n",
    "X_valid_lbp_glcm = np.concatenate((X_valid_lbp, X_valid_glcm), axis=1)\n",
    "\n",
    "X_train_stat_glcm_lbp = np.concatenate((X_train_stat_glcm, X_train_lbp), axis=1)\n",
    "X_valid_stat_glcm_lbp = np.concatenate((X_valid_stat_glcm, X_valid_lbp), axis=1)"
   ]
  },
  {
   "cell_type": "code",
   "execution_count": 41,
   "metadata": {},
   "outputs": [
    {
     "name": "stdout",
     "output_type": "stream",
     "text": [
      "Accuracy global: 90.50%\n",
      "Accuracy 1: 93.98%\n",
      "Accuracy 2: 82.93%\n",
      "Accuracy 3: 91.41%\n",
      "Accuracy 4: 94.91%\n",
      "Accuracy 5: 90.66%\n",
      "Accuracy 6: 79.41%\n",
      "Accuracy 7: 87.94%\n",
      "Accuracy 8: 96.0%\n",
      "Accuracy 9: 63.41%\n",
      "Accuracy 10: 82.93%\n",
      "Accuracy 11: 93.52%\n"
     ]
    }
   ],
   "source": [
    "lf = RandomForestClassifier(random_state=42)\n",
    "\n",
    "# Train the classifier on the training data\n",
    "clf.fit(X_train_stat_glcm, y_train)\n",
    "\n",
    "# Predict the labels for the validation data\n",
    "y_pred_stat_glcm = clf.predict(X_valid_stat_glcm)\n",
    "\n",
    "data_stat_glcm = assessment(y_valid, y_pred_stat_glcm)"
   ]
  },
  {
   "cell_type": "code",
   "execution_count": 42,
   "metadata": {},
   "outputs": [
    {
     "name": "stdout",
     "output_type": "stream",
     "text": [
      "Accuracy global: 83.62%\n",
      "Accuracy 1: 94.91%\n",
      "Accuracy 2: 53.66%\n",
      "Accuracy 3: 77.73%\n",
      "Accuracy 4: 95.83%\n",
      "Accuracy 5: 83.27%\n",
      "Accuracy 6: 26.47%\n",
      "Accuracy 7: 84.44%\n",
      "Accuracy 8: 88.0%\n",
      "Accuracy 9: 56.1%\n",
      "Accuracy 10: 90.24%\n",
      "Accuracy 11: 84.72%\n"
     ]
    }
   ],
   "source": [
    "lf = RandomForestClassifier(random_state=42)\n",
    "\n",
    "# Train the classifier on the training data\n",
    "clf.fit(X_train_stat_lbp, y_train)\n",
    "\n",
    "# Predict the labels for the validation data\n",
    "y_pred_stat_lbp = clf.predict(X_valid_stat_lbp)\n",
    "\n",
    "data_stat_lbp = assessment(y_valid, y_pred_stat_lbp)"
   ]
  },
  {
   "cell_type": "code",
   "execution_count": 43,
   "metadata": {},
   "outputs": [
    {
     "name": "stdout",
     "output_type": "stream",
     "text": [
      "Accuracy global: 87.38%\n",
      "Accuracy 1: 93.52%\n",
      "Accuracy 2: 73.17%\n",
      "Accuracy 3: 89.84%\n",
      "Accuracy 4: 86.57%\n",
      "Accuracy 5: 88.33%\n",
      "Accuracy 6: 64.71%\n",
      "Accuracy 7: 86.38%\n",
      "Accuracy 8: 96.0%\n",
      "Accuracy 9: 65.85%\n",
      "Accuracy 10: 75.61%\n",
      "Accuracy 11: 90.74%\n"
     ]
    }
   ],
   "source": [
    "lf = RandomForestClassifier(random_state=42)\n",
    "\n",
    "# Train the classifier on the training data\n",
    "clf.fit(X_train_lbp_glcm, y_train)\n",
    "\n",
    "# Predict the labels for the validation data\n",
    "y_pred_lbp_glcm = clf.predict(X_valid_lbp_glcm)\n",
    "\n",
    "data_lbp_glcm = assessment(y_valid, y_pred_lbp_glcm)"
   ]
  },
  {
   "cell_type": "code",
   "execution_count": 44,
   "metadata": {},
   "outputs": [
    {
     "name": "stdout",
     "output_type": "stream",
     "text": [
      "Accuracy global: 90.44%\n",
      "Accuracy 1: 93.98%\n",
      "Accuracy 2: 82.93%\n",
      "Accuracy 3: 91.41%\n",
      "Accuracy 4: 94.91%\n",
      "Accuracy 5: 89.88%\n",
      "Accuracy 6: 61.76%\n",
      "Accuracy 7: 88.72%\n",
      "Accuracy 8: 96.0%\n",
      "Accuracy 9: 68.29%\n",
      "Accuracy 10: 87.8%\n",
      "Accuracy 11: 93.98%\n"
     ]
    }
   ],
   "source": [
    "lf = RandomForestClassifier(random_state=42)\n",
    "\n",
    "# Train the classifier on the training data\n",
    "clf.fit(X_train_stat_glcm_lbp, y_train)\n",
    "\n",
    "# Predict the labels for the validation data\n",
    "y_pred_stat_glcm_lbp = clf.predict(X_valid_stat_glcm_lbp)\n",
    "\n",
    "data_stat_glcm_lbp = assessment(y_valid, y_pred_stat_glcm_lbp)"
   ]
  },
  {
   "cell_type": "code",
   "execution_count": 45,
   "metadata": {},
   "outputs": [
    {
     "data": {
      "image/png": "[encoded data removed]",
      "text/plain": [
       "<Figure size 640x480 with 1 Axes>"
      ]
     },
     "metadata": {},
     "output_type": "display_data"
    }
   ],
   "source": [
    "_ = plt.hist(data_stat_glcm[8][0], bins=11, range=(1,12))\n",
    "plt.show()"
   ]
  },
  {
   "cell_type": "code",
   "execution_count": null,
   "metadata": {},
   "outputs": [],
   "source": []
  }
 ],
 "metadata": {
  "kernelspec": {
   "display_name": "cv-texture",
   "language": "python",
   "name": "python3"
  },
  "language_info": {
   "codemirror_mode": {
    "name": "ipython",
    "version": 3
   },
   "file_extension": ".py",
   "mimetype": "text/x-python",
   "name": "python",
   "nbconvert_exporter": "python",
   "pygments_lexer": "ipython3",
   "version": "3.10.9"
  },
  "orig_nbformat": 4,
  "vscode": {
   "interpreter": {
    "hash": "30c0e3eb72b4722ca5623c01f3f04255874a5447489c289cdb8cdb326d32fa69"
   }
  }
 },
 "nbformat": 4,
 "nbformat_minor": 2
}
